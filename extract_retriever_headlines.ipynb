{
 "cells": [
  {
   "cell_type": "code",
   "execution_count": null,
   "id": "e4b642e5",
   "metadata": {},
   "outputs": [],
   "source": [
    "# Preprocess Retriever data\n",
    "# Very ineffective but works for now"
   ]
  },
  {
   "cell_type": "code",
   "execution_count": 344,
   "id": "ddda97bd",
   "metadata": {},
   "outputs": [],
   "source": [
    "import pandas as pd"
   ]
  },
  {
   "cell_type": "code",
   "execution_count": 304,
   "id": "cc364c9c",
   "metadata": {},
   "outputs": [],
   "source": [
    "# Input file is a txt file from Retriever \n",
    "# Only includes 500 texts with semi-structured metadata\n",
    "# Here, we perform the pre-processing to extract the headlines and the page numbers\n",
    "\n",
    "content = open(\"retriever_examples.txt\").readlines()"
   ]
  },
  {
   "cell_type": "code",
   "execution_count": 301,
   "id": "8c23f01c",
   "metadata": {},
   "outputs": [],
   "source": [
    "def merge(sentence):\n",
    "    # Concatenate list items into one string\n",
    "    string = ''\n",
    "    for i in sentence:\n",
    "        if i[0].islower():\n",
    "            string += \" \" + i.strip() # If start of list item is lowercase, join on whitespace\n",
    "        else:\n",
    "            string += \". \" + i.strip() # Id start of list item is not lowercase, join on \". \"\n",
    "    return string.strip(\". \")"
   ]
  },
  {
   "cell_type": "code",
   "execution_count": 305,
   "id": "4f02ffdd",
   "metadata": {},
   "outputs": [],
   "source": [
    "# Lookup is the anchor\n",
    "lookup = \"Publicerat i print.\"\n",
    "line_indices = [line_num for line_num, line_content in enumerate(content) if lookup in line_content]"
   ]
  },
  {
   "cell_type": "code",
   "execution_count": 345,
   "id": "869b7386",
   "metadata": {},
   "outputs": [],
   "source": [
    "potential_headlines = [] # List with some strings that look like headlines and pagenumbers\n",
    "\n",
    "for line_index in line_indices:\n",
    "    potential_headline = []\n",
    "    candidate_range = [7, 6, 5, 4, 3, 2, 1]\n",
    "    forbidden_strings = [\"Nyheter:\", \"Aftonbladet, 2\", \"Datum 2\", \"===\", \"Dagens Nyheter, 2\", \"Expressen, 2\", \"Läs hela artikeln på\", \"Svenska Dagbladet, 2\"] # Discard these lines, uninteresting for now. Revisit if more metadata is required.\n",
    "    for candidate in candidate_range:\n",
    "        if not any(content[line_index-candidate].startswith(s) for s in forbidden_strings):\n",
    "            if content[line_index-candidate] != \"\\n\":\n",
    "                if content[line_index-candidate]:\n",
    "                    headline = content[line_index-candidate]\n",
    "                    potential_headline.append(headline.strip())                    \n",
    "    potential_headlines.append(potential_headline) # Potential headlines are often splitted into multiple list items depending on their position in the original file"
   ]
  },
  {
   "cell_type": "code",
   "execution_count": 348,
   "id": "ad316039",
   "metadata": {},
   "outputs": [],
   "source": [
    "headlines = []\n",
    "\n",
    "for headline in potential_headlines:\n",
    "    h = headline[:-1] # Discard page number for now\n",
    "    if len(h) > 1: # If headline more than one list item\n",
    "        head = merge(h)\n",
    "    else:\n",
    "        head = \" \".join(h) # Accept string as headline\n",
    "    head = \" \".join(h)\n",
    "    page = head[-1].strip(\"Sida \").split(\",\")[0] # Sometimes there are multiple pagenumbers if the article spans more than one page. Choose the first one.\n",
    "    headlines.append({'headline': head,\n",
    "                      'page': page})\n",
    "    \n",
    "df = pd.DataFrame(headlines) # Create dataframe"
   ]
  },
  {
   "cell_type": "code",
   "execution_count": 349,
   "id": "d8f7f98e",
   "metadata": {},
   "outputs": [],
   "source": [
    "df.to_csv(\"filtered_headlines.csv\")"
   ]
  }
 ],
 "metadata": {
  "kernelspec": {
   "display_name": "Python 3 (ipykernel)",
   "language": "python",
   "name": "python3"
  },
  "language_info": {
   "codemirror_mode": {
    "name": "ipython",
    "version": 3
   },
   "file_extension": ".py",
   "mimetype": "text/x-python",
   "name": "python",
   "nbconvert_exporter": "python",
   "pygments_lexer": "ipython3",
   "version": "3.10.6"
  }
 },
 "nbformat": 4,
 "nbformat_minor": 5
}
