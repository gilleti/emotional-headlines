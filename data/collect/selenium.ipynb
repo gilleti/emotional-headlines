{
 "cells": [
  {
   "cell_type": "code",
   "execution_count": null,
   "id": "932db499",
   "metadata": {},
   "outputs": [],
   "source": [
    "from selenium import webdriver\n",
    "from selenium.webdriver.common.keys import Keys\n",
    "from selenium.webdriver.common.by import By"
   ]
  },
  {
   "cell_type": "code",
   "execution_count": null,
   "id": "f119036a",
   "metadata": {},
   "outputs": [],
   "source": [
    "import time"
   ]
  },
  {
   "cell_type": "code",
   "execution_count": null,
   "id": "09d63365",
   "metadata": {},
   "outputs": [],
   "source": [
    "# This is a Selenium scraper developed at the beginning of the project to automate the process of downloading headlines from Retriever (totally legal btw).\n",
    "# It turned out to be an incredibly time consuming undertaking as Retrievers web interface is terrible and takes forever.\n",
    "# The connection timed out frequently with no possibility to pick up the thread.\n",
    "# I'll stash this away here in case I need it for something else."
   ]
  },
  {
   "cell_type": "code",
   "execution_count": null,
   "id": "6d8fc566",
   "metadata": {},
   "outputs": [],
   "source": [
    "def send_key(browser, path, value):\n",
    "    '''browser -> browser;\\n\n",
    "       path -> css selector;\\n\n",
    "       value -> Fill in value\n",
    "    '''\n",
    "    markto = browser.find_element(By.CSS_SELECTOR, path)\n",
    "    markto.clear()\n",
    "    markto.send_keys(value)\n",
    "\n",
    "def rename_file(SAVE_TO_DIRECTORY, name, record_format = 'TAB'):\n",
    "    '''Export file rename \\n\n",
    "       SAVE_TO_DIRECTORY -> Export record storage location(folder)；\\n \n",
    "       name -> Rename to\n",
    "    '''\n",
    "    while True:\n",
    "        files = list(filter(lambda x:'savedrecs' in x and len(x.split('.'))== 2, os.listdir(SAVE_TO_DIRECTORY)))\n",
    "        if len(files) > 0:\n",
    "            break\n",
    "\n",
    "    files = [os.path.join(SAVE_TO_DIRECTORY, f) for f in files] \n",
    "    files.sort(key=lambda x: os.path.getctime(x))\n",
    "    newest_file = files[-1]\n",
    "    os.rename(newest_file, os.path.join(SAVE_TO_DIRECTORY, name + \".txt\"))"
   ]
  },
  {
   "cell_type": "code",
   "execution_count": null,
   "id": "73a0bc10",
   "metadata": {},
   "outputs": [],
   "source": [
    "def first_export():\n",
    "    browser.find_element(By.CSS_SELECTOR, \"#topMenuDownloadButton\").click() # Save search\n",
    "    browser.find_element(By.CSS_SELECTOR, \"label.radio-button:nth-child(5)\").click() # Txt format\n",
    "    browser.find_element(By.CSS_SELECTOR, \"div.toggle:nth-child(4) > label:nth-child(1)\").click() # Exclude articles from export\n",
    "    time.sleep(1)\n",
    "    browser.find_element(By.CSS_SELECTOR, \".agreement__agree-button > label:nth-child(1) > div:nth-child(1) > div:nth-child(2)\").click() # Jag accepterar villkoren\n",
    "    time.sleep(1)\n",
    "    browser.find_element(By.CSS_SELECTOR, \"#exportLayoutExportButton\").click() # Export\n",
    "    time.sleep(120)"
   ]
  },
  {
   "cell_type": "code",
   "execution_count": null,
   "id": "4ce91f87",
   "metadata": {},
   "outputs": [],
   "source": [
    "def export():\n",
    "    browser.find_element(By.CSS_SELECTOR, \"#topMenuDownloadButton\").click() # Save search\n",
    "    browser.find_element(By.CSS_SELECTOR, \".agreement__agree-button > label:nth-child(1) > div:nth-child(1) > div:nth-child(2)\").click() # Jag accepterar villkoren\n",
    "    time.sleep(1)\n",
    "    browser.find_element(By.CSS_SELECTOR, \"#exportLayoutExportButton\").click() # Export\n",
    "    time.sleep(120)"
   ]
  },
  {
   "cell_type": "code",
   "execution_count": null,
   "id": "4a9804cc",
   "metadata": {},
   "outputs": [],
   "source": [
    "# Retriever is a single page application, meaning the URL is static no matter what we do\n",
    "base_url = \"https://app-retriever-info-com.ez.hhs.se/services/archive?canFetchDataOnDateSelectorChange=true&fromDate=2000-01-01&searchString=wc%3A%3E1&toDate=2023-02-23\"\n",
    "\n",
    "# We also cannot save a pre-made selection of articles so we have to create a selection every time we run the program\n",
    "\n",
    "fp = webdriver.FirefoxProfile()\n",
    "\n",
    "fp.set_preference('browser.download.dir', \"/home/gilleti/Documents/emotional-headlines/retriever/\") # Where to export\n",
    "fp.set_preference('browser.download.folderList', 2)\n",
    "fp.set_preference('browser.download.manager.showWhenStarting', False)\n",
    "fp.set_preference('browser.helperApps.neverAsk.saveToDisk', 'text/plain')\n",
    "browser = webdriver.Firefox(executable_path = r'geckodriver', firefox_profile = fp)\n",
    "\n",
    "browser.get(base_url) # Go to page\n",
    "browser.fullscreen_window() # Open as fullscreen\n",
    "time.sleep(15)\n",
    "\n",
    "# Manual login here\n",
    "\n",
    "# Start the selection below\n",
    "browser.find_element(By.CSS_SELECTOR, \".source-presets-dropdown > button:nth-child(1) > span:nth-child(2) > div:nth-child(1) > div:nth-child(1) > span:nth-child(2)\").click()\n",
    "browser.find_element(By.CSS_SELECTOR, \"button.button--ghost\").click()\n",
    "time.sleep(1)\n",
    "browser.find_element(By.CSS_SELECTOR, \"#web\").click() #Uncheck some media type buttons. We're only interested in print.\n",
    "browser.find_element(By.CSS_SELECTOR, \"#broadcast\").click()\n",
    "browser.find_element(By.CSS_SELECTOR, \"#podcast\").click()\n",
    "time.sleep(1)\n",
    "\n",
    "browser.find_element(By.CSS_SELECTOR, \"button.source-selector-step:nth-child(2) > div:nth-child(2) > div:nth-child(2) > p:nth-child(2)\").click()\n",
    "browser.find_element(By.CSS_SELECTOR, \"div.source-selector__superselector:nth-child(1) > div:nth-child(1) > div:nth-child(3) > div:nth-child(1) > button:nth-child(3) > div:nth-child(1)\").click()\n",
    "\n",
    "time.sleep(1)\n",
    "\n",
    "browser.find_element(By.CSS_SELECTOR, \"div.input-list-row:nth-child(1) > label:nth-child(1)\").click() # Check Riksmedia button\n",
    "browser.find_element(By.CSS_SELECTOR, \"div.source-selector__superselector:nth-child(2) > div:nth-child(1) > div:nth-child(3) > div:nth-child(1) > button:nth-child(3)\").click() # Avmarkera alla tidningar\n",
    "time.sleep(1)\n",
    "browser.find_element(By.CSS_SELECTOR, \"div.source-selector__superselector:nth-child(2) > div:nth-child(1) > div:nth-child(2) > div:nth-child(1) > div:nth-child(1) > div:nth-child(1) > div:nth-child(1) > label:nth-child(1)\").click() # Aftonbladet\n",
    "time.sleep(1)\n",
    "browser.find_element(By.CSS_SELECTOR, \"button.button:nth-child(2)\").click() # Tillämpa\n",
    "time.sleep(15)\n",
    "\n",
    " Start the export\n",
    "first_export()\n",
    "\n",
    "\n",
    "i = 1\n",
    "while i < 151:\n",
    "    # Go to next page\n",
    "    browser.find_element(By.CSS_SELECTOR, \"div.pagination__page-link:nth-child(7) > button:nth-child(1)\").click() # Tillämpa\n",
    "    time.sleep(15)\n",
    "    export()\n",
    "    i += 1"
   ]
  }
 ],
 "metadata": {
  "kernelspec": {
   "display_name": "Python 3 (ipykernel)",
   "language": "python",
   "name": "python3"
  },
  "language_info": {
   "codemirror_mode": {
    "name": "ipython",
    "version": 3
   },
   "file_extension": ".py",
   "mimetype": "text/x-python",
   "name": "python",
   "nbconvert_exporter": "python",
   "pygments_lexer": "ipython3",
   "version": "3.10.6"
  }
 },
 "nbformat": 4,
 "nbformat_minor": 5
}
