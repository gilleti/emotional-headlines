{
 "cells": [
  {
   "cell_type": "code",
   "execution_count": 17,
   "id": "932db499",
   "metadata": {},
   "outputs": [],
   "source": [
    "from selenium import webdriver\n",
    "from selenium.webdriver.common.keys import Keys\n",
    "from selenium.webdriver.common.by import By"
   ]
  },
  {
   "cell_type": "code",
   "execution_count": 18,
   "id": "f119036a",
   "metadata": {},
   "outputs": [],
   "source": [
    "import time"
   ]
  },
  {
   "cell_type": "code",
   "execution_count": 19,
   "id": "6d8fc566",
   "metadata": {},
   "outputs": [],
   "source": [
    "def send_key(browser, path, value):\n",
    "    '''browser -> browser;\\n\n",
    "       path -> css selector;\\n\n",
    "       value -> Fill in value\n",
    "    '''\n",
    "    markto = browser.find_element(By.CSS_SELECTOR, path)\n",
    "    markto.clear()\n",
    "    markto.send_keys(value)\n",
    "\n",
    "def rename_file(SAVE_TO_DIRECTORY, name, record_format = 'TAB'):\n",
    "    '''Export file rename \\n\n",
    "       SAVE_TO_DIRECTORY -> Export record storage location(folder)；\\n \n",
    "       name -> Rename to\n",
    "    '''\n",
    "    while True:\n",
    "        files = list(filter(lambda x:'savedrecs' in x and len(x.split('.'))== 2, os.listdir(SAVE_TO_DIRECTORY)))\n",
    "        if len(files) > 0:\n",
    "            break\n",
    "\n",
    "    files = [os.path.join(SAVE_TO_DIRECTORY, f) for f in files] \n",
    "    files.sort(key=lambda x: os.path.getctime(x))\n",
    "    newest_file = files[-1]\n",
    "    os.rename(newest_file, os.path.join(SAVE_TO_DIRECTORY, name + \".txt\"))"
   ]
  },
  {
   "cell_type": "code",
   "execution_count": 20,
   "id": "9dafe79d",
   "metadata": {},
   "outputs": [],
   "source": [
    "def first_export():\n",
    "    browser.find_element(By.CSS_SELECTOR, \"#topMenuDownloadButton\").click() # Save search\n",
    "    browser.find_element(By.CSS_SELECTOR, \"label.radio-button:nth-child(5)\").click() # Txt format\n",
    "    browser.find_element(By.CSS_SELECTOR, \"div.toggle:nth-child(4) > label:nth-child(1)\").click() # Exclude articles from export\n",
    "    time.sleep(1)\n",
    "    browser.find_element(By.CSS_SELECTOR, \".agreement__agree-button > label:nth-child(1) > div:nth-child(1) > div:nth-child(2)\").click() # Jag accepterar villkoren\n",
    "    time.sleep(1)\n",
    "    browser.find_element(By.CSS_SELECTOR, \"#exportLayoutExportButton\").click() # Export\n",
    "    time.sleep(150)"
   ]
  },
  {
   "cell_type": "code",
   "execution_count": 26,
   "id": "34ed34b7",
   "metadata": {},
   "outputs": [],
   "source": [
    "def export():\n",
    "    browser.find_element(By.CSS_SELECTOR, \"#topMenuDownloadButton\").click() # Save search\n",
    "    browser.find_element(By.CSS_SELECTOR, \".agreement__agree-button > label:nth-child(1) > div:nth-child(1) > div:nth-child(2)\").click() # Jag accepterar villkoren\n",
    "    time.sleep(1)\n",
    "    browser.find_element(By.CSS_SELECTOR, \"#exportLayoutExportButton\").click() # Export\n",
    "    time.sleep(150)"
   ]
  },
  {
   "cell_type": "code",
   "execution_count": 27,
   "id": "4a9804cc",
   "metadata": {},
   "outputs": [
    {
     "name": "stderr",
     "output_type": "stream",
     "text": [
      "/tmp/ipykernel_229955/1364715306.py:6: DeprecationWarning: firefox_profile has been deprecated, please use an Options object\n",
      "  fp = webdriver.FirefoxProfile()\n",
      "/tmp/ipykernel_229955/1364715306.py:12: DeprecationWarning: firefox_profile has been deprecated, please pass in an Options object\n",
      "  browser = webdriver.Firefox(executable_path = r'geckodriver', firefox_profile = fp)\n"
     ]
    },
    {
     "ename": "KeyboardInterrupt",
     "evalue": "",
     "output_type": "error",
     "traceback": [
      "\u001b[0;31m---------------------------------------------------------------------------\u001b[0m",
      "\u001b[0;31mKeyboardInterrupt\u001b[0m                         Traceback (most recent call last)",
      "\u001b[0;32m/tmp/ipykernel_229955/1364715306.py\u001b[0m in \u001b[0;36m<module>\u001b[0;34m\u001b[0m\n\u001b[1;32m     55\u001b[0m     \u001b[0mbrowser\u001b[0m\u001b[0;34m.\u001b[0m\u001b[0mfind_element\u001b[0m\u001b[0;34m(\u001b[0m\u001b[0mBy\u001b[0m\u001b[0;34m.\u001b[0m\u001b[0mCSS_SELECTOR\u001b[0m\u001b[0;34m,\u001b[0m \u001b[0;34m\"div.pagination__page-link:nth-child(7) > button:nth-child(1)\"\u001b[0m\u001b[0;34m)\u001b[0m\u001b[0;34m.\u001b[0m\u001b[0mclick\u001b[0m\u001b[0;34m(\u001b[0m\u001b[0;34m)\u001b[0m \u001b[0;31m# Tillämpa\u001b[0m\u001b[0;34m\u001b[0m\u001b[0;34m\u001b[0m\u001b[0m\n\u001b[1;32m     56\u001b[0m     \u001b[0mtime\u001b[0m\u001b[0;34m.\u001b[0m\u001b[0msleep\u001b[0m\u001b[0;34m(\u001b[0m\u001b[0;36m20\u001b[0m\u001b[0;34m)\u001b[0m\u001b[0;34m\u001b[0m\u001b[0;34m\u001b[0m\u001b[0m\n\u001b[0;32m---> 57\u001b[0;31m     \u001b[0mexport\u001b[0m\u001b[0;34m(\u001b[0m\u001b[0;34m)\u001b[0m\u001b[0;34m\u001b[0m\u001b[0;34m\u001b[0m\u001b[0m\n\u001b[0m\u001b[1;32m     58\u001b[0m     \u001b[0mi\u001b[0m \u001b[0;34m+=\u001b[0m \u001b[0;36m1\u001b[0m\u001b[0;34m\u001b[0m\u001b[0;34m\u001b[0m\u001b[0m\n",
      "\u001b[0;32m/tmp/ipykernel_229955/2958736901.py\u001b[0m in \u001b[0;36mexport\u001b[0;34m()\u001b[0m\n\u001b[1;32m      4\u001b[0m     \u001b[0mtime\u001b[0m\u001b[0;34m.\u001b[0m\u001b[0msleep\u001b[0m\u001b[0;34m(\u001b[0m\u001b[0;36m1\u001b[0m\u001b[0;34m)\u001b[0m\u001b[0;34m\u001b[0m\u001b[0;34m\u001b[0m\u001b[0m\n\u001b[1;32m      5\u001b[0m     \u001b[0mbrowser\u001b[0m\u001b[0;34m.\u001b[0m\u001b[0mfind_element\u001b[0m\u001b[0;34m(\u001b[0m\u001b[0mBy\u001b[0m\u001b[0;34m.\u001b[0m\u001b[0mCSS_SELECTOR\u001b[0m\u001b[0;34m,\u001b[0m \u001b[0;34m\"#exportLayoutExportButton\"\u001b[0m\u001b[0;34m)\u001b[0m\u001b[0;34m.\u001b[0m\u001b[0mclick\u001b[0m\u001b[0;34m(\u001b[0m\u001b[0;34m)\u001b[0m \u001b[0;31m# Export\u001b[0m\u001b[0;34m\u001b[0m\u001b[0;34m\u001b[0m\u001b[0m\n\u001b[0;32m----> 6\u001b[0;31m     \u001b[0mtime\u001b[0m\u001b[0;34m.\u001b[0m\u001b[0msleep\u001b[0m\u001b[0;34m(\u001b[0m\u001b[0;36m150\u001b[0m\u001b[0;34m)\u001b[0m\u001b[0;34m\u001b[0m\u001b[0;34m\u001b[0m\u001b[0m\n\u001b[0m",
      "\u001b[0;31mKeyboardInterrupt\u001b[0m: "
     ]
    }
   ],
   "source": [
    "# Retriever is a single page application, meaning the URL is static no matter what we do\n",
    "base_url = \"https://app-retriever-info-com.ez.hhs.se/services/archive?canFetchDataOnDateSelectorChange=true&fromDate=2000-01-01&searchString=wc%3A%3E1&toDate=2023-02-23\"\n",
    "\n",
    "# We also cannot save a pre-made selection of articles so we have to create a selection every time we run the program\n",
    "\n",
    "fp = webdriver.FirefoxProfile()\n",
    "\n",
    "fp.set_preference('browser.download.dir', \"/home/gilleti/Documents/emotional-headlines/retriever/\") # Where to export\n",
    "fp.set_preference('browser.download.folderList', 2)\n",
    "fp.set_preference('browser.download.manager.showWhenStarting', False)\n",
    "fp.set_preference('browser.helperApps.neverAsk.saveToDisk', 'text/plain')\n",
    "browser = webdriver.Firefox(executable_path = r'geckodriver', firefox_profile = fp)\n",
    "\n",
    "browser.get(base_url) # Go to page\n",
    "browser.fullscreen_window() # Open as fullscreen\n",
    "time.sleep(15)\n",
    "\n",
    "# Manual login here\n",
    "\n",
    "# Start the selection below\n",
    "browser.find_element(By.CSS_SELECTOR, \".source-presets-dropdown > button:nth-child(1) > span:nth-child(2) > div:nth-child(1) > div:nth-child(1) > span:nth-child(2)\").click()\n",
    "browser.find_element(By.CSS_SELECTOR, \"button.button--ghost\").click()\n",
    "time.sleep(1)\n",
    "browser.find_element(By.CSS_SELECTOR, \"#web\").click() #Uncheck some media type buttons. We're only interested in print.\n",
    "browser.find_element(By.CSS_SELECTOR, \"#broadcast\").click()\n",
    "browser.find_element(By.CSS_SELECTOR, \"#podcast\").click()\n",
    "time.sleep(1)\n",
    "\n",
    "browser.find_element(By.CSS_SELECTOR, \"button.source-selector-step:nth-child(2) > div:nth-child(2) > div:nth-child(2) > p:nth-child(2)\").click()\n",
    "browser.find_element(By.CSS_SELECTOR, \"div.source-selector__superselector:nth-child(1) > div:nth-child(1) > div:nth-child(3) > div:nth-child(1) > button:nth-child(3) > div:nth-child(1)\").click()\n",
    "\n",
    "time.sleep(1)\n",
    "\n",
    "browser.find_element(By.CSS_SELECTOR, \"div.input-list-row:nth-child(1) > label:nth-child(1)\").click() # Check Riksmedia button\n",
    "browser.find_element(By.CSS_SELECTOR, \"div.source-selector__superselector:nth-child(2) > div:nth-child(1) > div:nth-child(3) > div:nth-child(1) > button:nth-child(3)\").click() # Avmarkera alla tidningar\n",
    "time.sleep(1)\n",
    "browser.find_element(By.CSS_SELECTOR, \"div.source-selector__superselector:nth-child(2) > div:nth-child(1) > div:nth-child(2) > div:nth-child(1) > div:nth-child(1) > div:nth-child(1) > div:nth-child(1) > label:nth-child(1)\").click() # Aftonbladet\n",
    "time.sleep(1)\n",
    "browser.find_element(By.CSS_SELECTOR, \"button.button:nth-child(2)\").click() # Tillämpa\n",
    "time.sleep(30)\n",
    "\n",
    "# Here, I realized we could do some of the stuff manually to keep developing time to a minimum\n",
    "# So here we select the time frame 2000-today\n",
    "# wc:>1 to include all headlines\n",
    "# Valda 500 to export 500 headlines at a time (max limit)\n",
    "\n",
    "\n",
    "# Start the export\n",
    "first_export()\n",
    "\n",
    "\n",
    "i = 1\n",
    "while i < 151:\n",
    "    # Go to next page\n",
    "    browser.find_element(By.CSS_SELECTOR, \"div.pagination__page-link:nth-child(7) > button:nth-child(1)\").click() # Tillämpa\n",
    "    time.sleep(20)\n",
    "    export()\n",
    "    i += 1"
   ]
  },
  {
   "cell_type": "code",
   "execution_count": null,
   "id": "6f6a71d2",
   "metadata": {},
   "outputs": [],
   "source": [
    "#browser.find_element(By.CSS_SELECTOR, \"div.input-list-row:nth-child(11) > label:nth-child(1)\").click() #DN\n",
    "#time.sleep(1)\n",
    "\n",
    "\n",
    "\n",
    "#time.sleep(1)\n",
    "#browser.find_element(By.CSS_SELECTOR, \"div.source-selector__superselector:nth-child(1) > div:nth-child(1) > div:nth-child(2) > div:nth-child(1) > div:nth-child(1) > div:nth-child(1) > div:nth-child(2)\").click() # Check Regionmedia button\n",
    "#time.sleep(1)\n",
    "\n",
    "#browser.find_element(By.CSS_SELECTOR, \"div.source-selector__superselector:nth-child(2) > div:nth-child(1) > div:nth-child(3) > div:nth-child(1) > button:nth-child(3)\").click() # Avmarkera alla\n",
    "#time.sleep(1)\n",
    "\n",
    "#browser.find_element(By.CSS_SELECTOR, \"div.source-selector__superselector:nth-child(2) > div:nth-child(1) > div:nth-child(2) > div:nth-child(1) > div:nth-child(1) > div:nth-child(1) > div:nth-child(1) > label:nth-child(1)\").click() # Aftonbladet\n",
    "#browser.find_element(By.CSS_SELECTOR, \"div.input-list-row:nth-child(11) > label:nth-child(1)\").click() #DN\n",
    "\n",
    "#time.sleep(1)\n",
    "\n",
    "# Try searching\n",
    "\n",
    "\n",
    "#browser.find_element(By.CSS_SELECTOR, \"div.input-list-row:nth-child(14) > label:nth-child(1) #Expressen\").click() #Exp\n",
    "#browser.find_element(By.CSS_SELECTOR, \"div.input-list-row:nth-child(10) > label:nth-child(1)\").click() #GP\n",
    "#browser.find_element(By.CSS_SELECTOR, \"div.input-list-row:nth-child(15) > label:nth-child(1)\").click() #SvD\n",
    "\n",
    "\n",
    "#browser.find_element(By.CSS_SELECTOR, \"\").click()\n",
    "\n",
    "\n",
    "\n",
    "## Search input\n",
    "#div.source-selector__superselector:nth-child(2) > div:nth-child(1) > div:nth-child(1)\n",
    "\n",
    "#browser.find_element(By.CSS_SELECTOR, '#onetrust-button-group button#onetrust-reject-all-handler').click() # accept cookies\n",
    "#time.sleep(5)\n",
    "\n",
    "\n",
    "\n",
    "#div.pagination__page-link:nth-child(7) > button:nth-child(1)"
   ]
  },
  {
   "cell_type": "code",
   "execution_count": null,
   "id": "54815ad0",
   "metadata": {},
   "outputs": [],
   "source": []
  },
  {
   "cell_type": "code",
   "execution_count": null,
   "id": "672c8da9",
   "metadata": {},
   "outputs": [],
   "source": [
    "# Very sloppy\n",
    "#22291\n",
    "#19Helgonet89H"
   ]
  },
  {
   "cell_type": "code",
   "execution_count": null,
   "id": "bf5a55eb",
   "metadata": {},
   "outputs": [],
   "source": []
  }
 ],
 "metadata": {
  "kernelspec": {
   "display_name": "Python 3 (ipykernel)",
   "language": "python",
   "name": "python3"
  },
  "language_info": {
   "codemirror_mode": {
    "name": "ipython",
    "version": 3
   },
   "file_extension": ".py",
   "mimetype": "text/x-python",
   "name": "python",
   "nbconvert_exporter": "python",
   "pygments_lexer": "ipython3",
   "version": "3.10.6"
  }
 },
 "nbformat": 4,
 "nbformat_minor": 5
}
