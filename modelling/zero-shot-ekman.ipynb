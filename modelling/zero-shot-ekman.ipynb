{
 "cells": [
  {
   "cell_type": "code",
   "execution_count": 1,
   "metadata": {},
   "outputs": [],
   "source": [
    "from transformers import pipeline"
   ]
  },
  {
   "cell_type": "code",
   "execution_count": 2,
   "metadata": {},
   "outputs": [],
   "source": [
    "classifier = pipeline(\"zero-shot-classification\", model = \"KBlab/megatron-bert-large-swedish-cased-165-zero-shot\")"
   ]
  },
  {
   "cell_type": "code",
   "execution_count": 3,
   "metadata": {},
   "outputs": [],
   "source": [
    "# Some examples sentences\n",
    "\n",
    "sent_1 = \"Så blev det trendigt med könsstympning\"\n",
    "sent_2 = \"Shiffrin och 142 åkare i upprop: \\\"Vår sport är hotad\\\"\"\n",
    "sent_3 = \"Svenska Rymdbolaget: Otäckt om det handlar om militära syften\"\n",
    "sent_4 = \"Ribbenvik: \\\"Ingen hemlighet att jag gärna velat vara kvar\\\"\"\n",
    "sent_5 = \"Storebror ser dig - i Ryssland anno 2023. Den ryska censuren använder artificiell intelligens för att stoppa kritik mot Putin.\"\n",
    "sent_6 = \"Konsumentverket avslutar granskning\"\n",
    "sent_7 = \"Hur ska vi säkra att elever inte fuskar?\"\n",
    "sent_8 = \"Ni kan stoppa upp era romantiska menyer i röven\"\n",
    "sent_9 = \"Svensk hund räddade tre människor\"\n",
    "sent_10 = \"KATRIN ZYTOMIERSKA OM NYA KÄRLEKEN\""
   ]
  },
  {
   "cell_type": "code",
   "execution_count": 16,
   "metadata": {},
   "outputs": [
    {
     "data": {
      "text/plain": [
       "{'sequence': 'Svensk hund räddade tre människor',\n",
       " 'labels': ['förvånad', 'glad', 'rädd', 'ledsen', 'äcklad', 'arg'],\n",
       " 'scores': [0.42218154668807983,\n",
       "  0.199453204870224,\n",
       "  0.14028169214725494,\n",
       "  0.10998205840587616,\n",
       "  0.0816909447312355,\n",
       "  0.04641048237681389]}"
      ]
     },
     "execution_count": 16,
     "metadata": {},
     "output_type": "execute_result"
    }
   ],
   "source": [
    "classifier(sent_9, \n",
    "           candidate_labels=[\"förvånad\", \"äcklad\", \"glad\", \"rädd\", \"arg\", \"ledsen\"], # \"glad\"\n",
    "           hypothesis_template = \"Jag blir {} av den här text.\")"
   ]
  },
  {
   "cell_type": "code",
   "execution_count": null,
   "metadata": {},
   "outputs": [],
   "source": []
  }
 ],
 "metadata": {
  "kernelspec": {
   "display_name": "Python 3",
   "language": "python",
   "name": "python3"
  },
  "language_info": {
   "codemirror_mode": {
    "name": "ipython",
    "version": 3
   },
   "file_extension": ".py",
   "mimetype": "text/x-python",
   "name": "python",
   "nbconvert_exporter": "python",
   "pygments_lexer": "ipython3",
   "version": "3.8.10"
  }
 },
 "nbformat": 4,
 "nbformat_minor": 4
}
