{
 "cells": [
  {
   "cell_type": "code",
   "execution_count": 1,
   "metadata": {},
   "outputs": [],
   "source": [
    "from transformers import pipeline"
   ]
  },
  {
   "cell_type": "code",
   "execution_count": 2,
   "metadata": {},
   "outputs": [],
   "source": [
    "sentiment_pipeline = pipeline(\"sentiment-analysis\", model = \"marma/bert-base-swedish-cased-sentiment\")"
   ]
  },
  {
   "cell_type": "code",
   "execution_count": 3,
   "metadata": {},
   "outputs": [],
   "source": [
    "sent_1 = \"Så blev det trendigt med könsstympning\"\n",
    "sent_2 = \"Shiffrin och 142 åkare i upprop: \\\"Vår sport är hotad\\\"\"\n",
    "sent_3 = \"Svenska Rymdbolaget: Otäckt om det handlar om militära syften\"\n",
    "sent_4 = \"Ribbenvik: \\\"Ingen hemlighet att jag gärna velat vara kvar\\\"\"\n",
    "sent_5 = \"Storebror ser dig - i Ryssland anno 2023. Den ryska censuren använder artificiell intelligens för att stoppa kritik mot Putin.\"\n",
    "sent_6 = \"Konsumentverket avslutar granskning\"\n",
    "sent_7 = \"Hur ska vi säkra att elever inte fuskar?\"\n",
    "sent_8 = \"Ni kan stoppa upp era romantiska menyer i röven\"\n",
    "sent_9 = \"Svensk hund räddade tre människor\"\n",
    "sent_10 = \"KATRIN ZYTOMIERSKA OM NYA KÄRLEKEN\""
   ]
  },
  {
   "cell_type": "code",
   "execution_count": 14,
   "metadata": {},
   "outputs": [
    {
     "data": {
      "text/plain": [
       "[{'label': 'POSITIVE', 'score': 0.9838444590568542}]"
      ]
     },
     "execution_count": 14,
     "metadata": {},
     "output_type": "execute_result"
    }
   ],
   "source": [
    "sentiment_pipeline(sent_10)"
   ]
  },
  {
   "cell_type": "code",
   "execution_count": null,
   "metadata": {},
   "outputs": [],
   "source": []
  }
 ],
 "metadata": {
  "kernelspec": {
   "display_name": "Python 3",
   "language": "python",
   "name": "python3"
  },
  "language_info": {
   "codemirror_mode": {
    "name": "ipython",
    "version": 3
   },
   "file_extension": ".py",
   "mimetype": "text/x-python",
   "name": "python",
   "nbconvert_exporter": "python",
   "pygments_lexer": "ipython3",
   "version": "3.8.10"
  }
 },
 "nbformat": 4,
 "nbformat_minor": 4
}
